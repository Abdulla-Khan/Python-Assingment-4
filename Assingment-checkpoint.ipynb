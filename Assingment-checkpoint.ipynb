{
 "cells": [
  {
   "cell_type": "markdown",
   "id": "616331d4",
   "metadata": {},
   "source": [
    "# Task 1\n",
    "\n",
    "\n"
   ]
  },
  {
   "cell_type": "code",
   "execution_count": 2,
   "id": "874ffc52",
   "metadata": {},
   "outputs": [
    {
     "name": "stdout",
     "output_type": "stream",
     "text": [
      "Enter first number12\n",
      "Enter the second number2\n",
      "Enter 1 for Addition\n",
      "Enter 2 for Subtraction\n",
      "Enter 3 for Multiplication\n",
      "Enter 4 for Division\n",
      "Enter 5 for Exponent 5\n",
      "Power of two numbers =  144.0\n"
     ]
    }
   ],
   "source": [
    "i = float(input('Enter first number'))\n",
    "j = float(input('Enter the second number'))\n",
    "z = str(input('Enter 1 for Addition\\n'+\n",
    " 'Enter 2 for Subtraction\\n'+\n",
    "  'Enter 3 for Multiplication\\n'+\n",
    "   'Enter 4 for Division\\n'+\n",
    "    'Enter 5 for Exponent '))\n",
    "\n",
    "if(z == '1'):\n",
    "    print('Sum of two numbers = ',sum(i,j))\n",
    "elif(z=='2'):\n",
    "        print('Subtraction of two numbers = ',i-j)\n",
    "elif(z=='3'):\n",
    "        print('Multiplication of two numbers = ',i*j)\n",
    "elif(z=='4'):\n",
    "        print('Division of two numbers = ',i/j)\n",
    "elif(z=='5'):\n",
    "        print('Power of two numbers = ',pow(i,j))\n",
    "else:\n",
    "    print('Enter valid input')"
   ]
  },
  {
   "cell_type": "markdown",
   "id": "7ef62efd",
   "metadata": {},
   "source": [
    "# Task 2"
   ]
  },
  {
   "cell_type": "code",
   "execution_count": 4,
   "id": "7832ac52",
   "metadata": {},
   "outputs": [
    {
     "name": "stdout",
     "output_type": "stream",
     "text": [
      "12\n",
      "21\n",
      "3\n",
      "3\n",
      "5\n",
      "6\n",
      "7\n"
     ]
    }
   ],
   "source": [
    "list = ['Int',12,21,3,3,5,6,7,'A','d','dw'] \n",
    "for x in list: \n",
    "    if type(x) == int: \n",
    "        print(x)"
   ]
  },
  {
   "cell_type": "markdown",
   "id": "f2c884b9",
   "metadata": {},
   "source": [
    "# Task 3"
   ]
  },
  {
   "cell_type": "code",
   "execution_count": 6,
   "id": "75708766",
   "metadata": {},
   "outputs": [
    {
     "name": "stdout",
     "output_type": "stream",
     "text": [
      "Enter the key you want to add12\n",
      "Enter the value you want to add21\n",
      "{'A': 'Num', 'B': 'String', '12': '21'}\n"
     ]
    }
   ],
   "source": [
    "dict  = {'A':'Num','B':'String'}\n",
    "x= str(input(\"Enter the key you want to add\"))\n",
    "y= str(input(\"Enter the value you want to add\"))\n",
    "\n",
    "dict.update({x:y})\n",
    "print(dict)\n"
   ]
  },
  {
   "cell_type": "markdown",
   "id": "445d8d1d",
   "metadata": {},
   "source": [
    "# Task 4"
   ]
  },
  {
   "cell_type": "code",
   "execution_count": 13,
   "id": "1bfcc9d9",
   "metadata": {},
   "outputs": [
    {
     "name": "stdout",
     "output_type": "stream",
     "text": [
      "65\n"
     ]
    }
   ],
   "source": [
    "dict = {'a': 20, 'b':29, 'c':16}\n",
    "sum = 0\n",
    "for i in dict.values():\n",
    "    sum = sum+i\n",
    "print(sum)\n"
   ]
  },
  {
   "cell_type": "markdown",
   "id": "dd5c191f",
   "metadata": {},
   "source": [
    "# Task 5"
   ]
  },
  {
   "cell_type": "code",
   "execution_count": 11,
   "id": "c2581e5d",
   "metadata": {
    "scrolled": true
   },
   "outputs": [
    {
     "name": "stdout",
     "output_type": "stream",
     "text": [
      "2,3,4,5,"
     ]
    }
   ],
   "source": [
    "l=[1,2,3,4,5,2,3,4,7,9,5]\n",
    "l1=[]\n",
    "for i in l:\n",
    "    if i not in l1:\n",
    "        l1.append(i)\n",
    "    else:\n",
    "        print(i,end=',')\n"
   ]
  },
  {
   "cell_type": "markdown",
   "id": "f837eea8",
   "metadata": {},
   "source": [
    "# Task 6"
   ]
  },
  {
   "cell_type": "code",
   "execution_count": 14,
   "id": "85fdac40",
   "metadata": {},
   "outputs": [
    {
     "name": "stdout",
     "output_type": "stream",
     "text": [
      "Enter the key you want to check a\n",
      "Exist in dictionary\n"
     ]
    }
   ],
   "source": [
    "dict = {'a': 20, 'b':29, 'c':16}\n",
    "x = input('Enter the key you want to check ')\n",
    "if x in dict.keys():\n",
    "    print('Exist in dictionary')\n",
    "else:\n",
    "    print(\"Doesn't exist in dictionary\")\n"
   ]
  },
  {
   "cell_type": "code",
   "execution_count": null,
   "id": "e669dc79",
   "metadata": {},
   "outputs": [],
   "source": []
  }
 ],
 "metadata": {
  "kernelspec": {
   "display_name": "Python 3.10.0 64-bit",
   "language": "python",
   "name": "python3100jvsc74a57bd0d0d928e545beeef79bd52fae25454891351cc3d02ee39b4b4b8438e2a6665aac"
  },
  "language_info": {
   "codemirror_mode": {
    "name": "ipython",
    "version": 3
   },
   "file_extension": ".py",
   "mimetype": "text/x-python",
   "name": "python",
   "nbconvert_exporter": "python",
   "pygments_lexer": "ipython3",
   "version": "3.10.0"
  }
 },
 "nbformat": 4,
 "nbformat_minor": 5
}
